{
  "nbformat": 4,
  "nbformat_minor": 0,
  "metadata": {
    "colab": {
      "provenance": [],
      "include_colab_link": true
    },
    "kernelspec": {
      "name": "python3",
      "display_name": "Python 3"
    },
    "language_info": {
      "name": "python"
    }
  },
  "cells": [
    {
      "cell_type": "markdown",
      "metadata": {
        "id": "view-in-github",
        "colab_type": "text"
      },
      "source": [
        "<a href=\"https://colab.research.google.com/github/NiaraCook/MyFinalProjectPython/blob/main/Copy_of_Dictionaries_Assignment_(1).ipynb\" target=\"_parent\"><img src=\"https://colab.research.google.com/assets/colab-badge.svg\" alt=\"Open In Colab\"/></a>"
      ]
    },
    {
      "cell_type": "code",
      "execution_count": null,
      "metadata": {
        "id": "bRCmn_QNhe9y"
      },
      "outputs": [],
      "source": [
        "# Run this cell in order to have these two dictionary variables defined.\n",
        "tukey_paper = {\n",
        "    \"title\": \"The Future of Data Analysis\",\n",
        "    \"author\": \"John W. Tukey\",\n",
        "    \"link\": \"https://projecteuclid.org/euclid.aoms/1177704711\",\n",
        "    \"year_published\": 1962\n",
        "}\n",
        "\n",
        "thomas_paper = {\n",
        "    \"title\": \"A mathematical model of glutathione metabolism\",\n",
        "    \"author\": \"Rachel Thomas\",\n",
        "    \"link\": \"https://www.ncbi.nlm.nih.gov/pubmed/18442411\",\n",
        "    \"year_published\": 2008\n",
        "}"
      ]
    },
    {
      "cell_type": "code",
      "source": [
        "# Exercise 1\n",
        "# Write a function named get_paper_title that takes in a dictionary and returns the title property\n",
        "# still make another varbiable for thomas's paper\n",
        "# get them to return only the title from each\n",
        "\n",
        "def get_paper_title(paper):\n",
        "    return paper[\"title\"]\n",
        "\n",
        "assert get_paper_title(tukey_paper) == \"The Future of Data Analysis\"\n",
        "assert get_paper_title(thomas_paper) == \"A mathematical model of glutathione metabolism\"\n",
        "print(\"Exercise 1 is correct.\")"
      ],
      "metadata": {
        "colab": {
          "base_uri": "https://localhost:8080/"
        },
        "id": "p611VuR3hopu",
        "outputId": "bbc26061-88d9-4d37-d459-e03a2c43fdec"
      },
      "execution_count": null,
      "outputs": [
        {
          "output_type": "stream",
          "name": "stdout",
          "text": [
            "Exercise 1 is correct.\n"
          ]
        }
      ]
    },
    {
      "cell_type": "code",
      "source": [
        "# Exercise 2\n",
        "# Write a function named get_year_published that takes in a dictionary and returns the value behind the \"year_published\" key.\n",
        "def get_year_published(paper):\n",
        "    return paper[\"year_published\"]\n",
        "\n",
        "assert get_year_published(tukey_paper) == 1962\n",
        "assert get_year_published(thomas_paper) == 2008\n",
        "print(\"Exercise 2 is correct.\")"
      ],
      "metadata": {
        "id": "18vt-8kWkN8g",
        "colab": {
          "base_uri": "https://localhost:8080/"
        },
        "outputId": "d8cfed04-c845-46e0-d36d-d59150520f70"
      },
      "execution_count": null,
      "outputs": [
        {
          "output_type": "stream",
          "name": "stdout",
          "text": [
            "Exercise 2 is correct.\n"
          ]
        }
      ]
    },
    {
      "cell_type": "code",
      "source": [
        "# Run this code to create data for the next two questions\n",
        "\n",
        "book = {\n",
        "    \"title\": \"Genetic Algorithms and Machine Learning for Programmers\",\n",
        "    \"price\": 36.99,\n",
        "    \"author\": \"Frances Buontempo\"\n",
        "}"
      ],
      "metadata": {
        "id": "obp8OvZvkhQI"
      },
      "execution_count": null,
      "outputs": []
    },
    {
      "cell_type": "code",
      "source": [
        "# Exercise 3\n",
        "# Write a function named get_price that takes in a dictionary and returns the price\n",
        "# Output: 36.99\n",
        "\n",
        "def get_price(book):\n",
        "    return book[\"price\"]\n",
        "\n",
        "assert get_price(book) == 36.99\n",
        "print(\"Exercise 3 is complete.\")"
      ],
      "metadata": {
        "id": "XkG-5S4ckrzm",
        "colab": {
          "base_uri": "https://localhost:8080/"
        },
        "outputId": "5c4c1ddd-cbf7-4c30-8c52-92548a626c4a"
      },
      "execution_count": null,
      "outputs": [
        {
          "output_type": "stream",
          "name": "stdout",
          "text": [
            "Exercise 3 is complete.\n"
          ]
        }
      ]
    },
    {
      "cell_type": "code",
      "source": [
        "# Run this code to create data for the next question\n",
        "\n",
        "book = {'title': 'The Lord of the Rings', 'author': 'J.R.R. Tolkien', 'price': 36.99}"
      ],
      "metadata": {
        "id": "zjYb694gIWfm"
      },
      "execution_count": null,
      "outputs": []
    },
    {
      "cell_type": "code",
      "source": [
        "# Exercise 4\n",
        "# Write a function named get_book_author that takes in a dictionary (the above declared book variable) and returns the author's name\n",
        "def get_book_author(book):\n",
        "    return book[\"author\"]\n",
        "\n",
        "# Example usage:\n",
        "book_author = get_book_author(book)\n",
        "print(book_author)  # Output: 'J.R.R. Tolkien'\n",
        "\n",
        "\n",
        "print(\"Exercise 4 is complete.\")"
      ],
      "metadata": {
        "id": "do2jDeJ3l3B1",
        "colab": {
          "base_uri": "https://localhost:8080/"
        },
        "outputId": "28517037-dfab-45c4-c3d9-7e9b598fb979"
      },
      "execution_count": null,
      "outputs": [
        {
          "output_type": "stream",
          "name": "stdout",
          "text": [
            "J.R.R. Tolkien\n",
            "Exercise 4 is complete.\n"
          ]
        }
      ]
    },
    {
      "cell_type": "code",
      "source": [
        "# Exercise 5 - Run this cell\n",
        "# Question sample dictionary\n",
        "\n",
        "soundtrack_dic = {\"The Bodyguard\":\"1992\", \"Saturday Night Fever\":\"1977\"}\n",
        "soundtrack_dic"
      ],
      "metadata": {
        "id": "tga1UOCTpUPZ",
        "colab": {
          "base_uri": "https://localhost:8080/"
        },
        "outputId": "1e41a58e-05f5-47ca-90aa-4e7feb2b1466"
      },
      "execution_count": null,
      "outputs": [
        {
          "output_type": "execute_result",
          "data": {
            "text/plain": [
              "{'The Bodyguard': '1992', 'Saturday Night Fever': '1977'}"
            ]
          },
          "metadata": {},
          "execution_count": 10
        }
      ]
    },
    {
      "cell_type": "markdown",
      "source": [
        "a) In the dictionary <code>soundtrack_dic</code> what are the keys ?"
      ],
      "metadata": {
        "id": "K51Txk-cpduI"
      }
    },
    {
      "cell_type": "code",
      "source": [
        "# Write your code below and press Shift+Enter to execute\n",
        "def get_keys(soundtrack_dic):\n",
        "    return list(soundtrack_dic.keys())\n",
        "\n",
        "keys = get_keys(soundtrack_dic)\n",
        "print(keys)\n"
      ],
      "metadata": {
        "id": "Me5ubCw2padB",
        "colab": {
          "base_uri": "https://localhost:8080/"
        },
        "outputId": "98d31fad-5b6b-4043-a52c-7335ac49db6c"
      },
      "execution_count": null,
      "outputs": [
        {
          "output_type": "stream",
          "name": "stdout",
          "text": [
            "['The Bodyguard', 'Saturday Night Fever']\n"
          ]
        }
      ]
    },
    {
      "cell_type": "markdown",
      "source": [
        "In the dictionary <code>soundtrack_dic</code> what are the values ?"
      ],
      "metadata": {
        "id": "GHlVgRbQp12G"
      }
    },
    {
      "cell_type": "code",
      "source": [
        "# Write your code below and press Shift+Enter to execute\n",
        "#define the values of sample dicitonary\n",
        "\n",
        "def get_values(soundtrack_dic):\n",
        "    return list(soundtrack_dic.values())\n",
        "\n",
        "values = get_values(soundtrack_dic)\n",
        "print(values)"
      ],
      "metadata": {
        "id": "_bGCeyUkpy_S",
        "colab": {
          "base_uri": "https://localhost:8080/"
        },
        "outputId": "d1b0a145-d77e-44d2-8b66-fa0ab802a79b"
      },
      "execution_count": null,
      "outputs": [
        {
          "output_type": "stream",
          "name": "stdout",
          "text": [
            "['1992', '1977']\n"
          ]
        }
      ]
    }
  ]
}