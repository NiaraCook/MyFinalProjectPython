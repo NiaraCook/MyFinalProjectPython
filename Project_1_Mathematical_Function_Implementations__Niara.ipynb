{
  "nbformat": 4,
  "nbformat_minor": 0,
  "metadata": {
    "colab": {
      "provenance": [],
      "authorship_tag": "ABX9TyNQESLQtE5o9ANqfC9FrAzc",
      "include_colab_link": true
    },
    "kernelspec": {
      "name": "python3",
      "display_name": "Python 3"
    },
    "language_info": {
      "name": "python"
    }
  },
  "cells": [
    {
      "cell_type": "markdown",
      "metadata": {
        "id": "view-in-github",
        "colab_type": "text"
      },
      "source": [
        "<a href=\"https://colab.research.google.com/github/NiaraCook/MyFinalProjectPython/blob/main/Project_1_Mathematical_Function_Implementations__Niara.ipynb\" target=\"_parent\"><img src=\"https://colab.research.google.com/assets/colab-badge.svg\" alt=\"Open In Colab\"/></a>"
      ]
    },
    {
      "cell_type": "markdown",
      "source": [
        "1. Function Creation\n",
        "\n"
      ],
      "metadata": {
        "id": "7O05hAPGaqOo"
      }
    },
    {
      "cell_type": "code",
      "execution_count": 1,
      "metadata": {
        "id": "39UweqO1ZK0t"
      },
      "outputs": [],
      "source": [
        "def factorial(n):\n",
        "    \"\"\"\n",
        "    Calculate the factorial of a non-negative integer n.\n",
        "\n",
        "    Args:\n",
        "        n (int): A non-negative integer.\n",
        "\n",
        "    Returns:\n",
        "        int: The factorial of n.\n",
        "    \"\"\"\n",
        "    if n < 0:\n",
        "        raise ValueError(\"Factorial is not defined for negative numbers.\")\n",
        "    result = 1\n",
        "    for i in range(1, n + 1):\n",
        "        result *= i\n",
        "    return result\n",
        "\n",
        "def is_prime(n):\n",
        "    \"\"\"\n",
        "    Check if a number is a prime number.\n",
        "\n",
        "    Args:\n",
        "        n (int): The number to check.\n",
        "\n",
        "    Returns:\n",
        "        bool: True if n is prime, False otherwise.\n",
        "    \"\"\"\n",
        "    if n <= 1:\n",
        "        return False\n",
        "    for i in range(2, int(n**0.5) + 1):\n",
        "        if n % i == 0:\n",
        "            return False\n",
        "    return True\n",
        "\n",
        "def gcd(a, b):\n",
        "    \"\"\"\n",
        "    Compute the greatest common divisor of two integers using Euclid's algorithm.\n",
        "\n",
        "    Args:\n",
        "        a (int): First integer.\n",
        "        b (int): Second integer.\n",
        "\n",
        "    Returns:\n",
        "        int: The GCD of a and b.\n",
        "    \"\"\"\n",
        "    while b:\n",
        "        a, b = b, a % b\n",
        "    return a\n"
      ]
    },
    {
      "cell_type": "markdown",
      "source": [
        "2. Function Utilization"
      ],
      "metadata": {
        "id": "DiS_HwGjakq5"
      }
    },
    {
      "cell_type": "code",
      "source": [
        "# Factorial calculations\n",
        "print(\"Factorial of 5:\", factorial(5))\n",
        "print(\"Factorial of 7:\", factorial(7))\n",
        "print(\"Factorial of 10:\", factorial(10))\n",
        "\n",
        "# Prime checks\n",
        "print(\"Is 29 prime?\", is_prime(29))\n",
        "print(\"Is 57 prime?\", is_prime(57))\n",
        "print(\"Is 97 prime?\", is_prime(97))\n",
        "\n",
        "# GCD calculations\n",
        "print(\"GCD of 48 and 180:\", gcd(48, 180))\n",
        "print(\"GCD of 56 and 98:\", gcd(56, 98))\n",
        "print(\"GCD of 101 and 103:\", gcd(101, 103))\n"
      ],
      "metadata": {
        "colab": {
          "base_uri": "https://localhost:8080/"
        },
        "id": "IrhVV8mXZYlp",
        "outputId": "e72d5cbc-3b9c-4c50-e173-aa3eccacf05b"
      },
      "execution_count": 2,
      "outputs": [
        {
          "output_type": "stream",
          "name": "stdout",
          "text": [
            "Factorial of 5: 120\n",
            "Factorial of 7: 5040\n",
            "Factorial of 10: 3628800\n",
            "Is 29 prime? True\n",
            "Is 57 prime? False\n",
            "Is 97 prime? True\n",
            "GCD of 48 and 180: 12\n",
            "GCD of 56 and 98: 14\n",
            "GCD of 101 and 103: 1\n"
          ]
        }
      ]
    },
    {
      "cell_type": "markdown",
      "source": [
        "3. Analysis\n",
        "\n",
        "**Time Complexity**\n",
        "\n",
        "Factorial Function:\n",
        "O(n), iterating through all integers from 1 to n.\n",
        "\n",
        "Prime Checker:\n",
        "O(n), iterating up to the square root of n.\n",
        "\n",
        "GCD Calculator:\n",
        "O(log(min(a,b))), due to the efficiency of Euclid’s algorithm.\n",
        "\n",
        "**Optimization Suggestions**\n",
        "\n",
        "Factorial:\n",
        "Use memoization or precompute factorials for frequent queries.\n",
        "Use recursive implementation with a cache.\n",
        "\n",
        "Prime Checker:\n",
        "Optimize with a sieve method for checking multiple primes in a range.\n",
        "\n",
        "GCD:\n",
        "The current implementation is optimal, but parallel computation may speed up multiple queries.\n"
      ],
      "metadata": {
        "id": "hJPL7sgvZwJz"
      }
    }
  ]
}